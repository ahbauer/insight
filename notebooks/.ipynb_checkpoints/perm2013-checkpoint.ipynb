{
 "metadata": {
  "name": "",
  "signature": "sha256:946de97bf1445516ce8a77e2d075fed027b36db9241b1b62ea7faf1b7270df81"
 },
 "nbformat": 3,
 "nbformat_minor": 0,
 "worksheets": []
}